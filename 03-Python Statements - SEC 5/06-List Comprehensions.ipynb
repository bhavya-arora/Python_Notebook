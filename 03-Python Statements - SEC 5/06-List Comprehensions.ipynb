{
 "cells": [
  {
   "cell_type": "code",
   "execution_count": 1,
   "metadata": {},
   "outputs": [
    {
     "name": "stdout",
     "output_type": "stream",
     "text": [
      "['B', 'h', 'a', 'v', 'y', 'a']\n"
     ]
    }
   ],
   "source": [
    "# Old way making list by appending items\n",
    "\n",
    "mylist = []\n",
    "for a in 'Bhavya':\n",
    "    mylist.append(a)\n",
    "    \n",
    "print(mylist)"
   ]
  },
  {
   "cell_type": "code",
   "execution_count": 2,
   "metadata": {},
   "outputs": [
    {
     "name": "stdout",
     "output_type": "stream",
     "text": [
      "['B', 'h', 'a', 'v', 'y', 'a']\n"
     ]
    }
   ],
   "source": [
    "# New and easy way to do same thing\n",
    "\n",
    "mylist = [a for a in 'Bhavya']\n",
    "print(mylist)"
   ]
  },
  {
   "cell_type": "code",
   "execution_count": 3,
   "metadata": {},
   "outputs": [
    {
     "name": "stdout",
     "output_type": "stream",
     "text": [
      "[0, 1, 2, 3, 4, 5, 6, 7, 8, 9]\n",
      "\n",
      "\n",
      "\n",
      "[0, 1, 2, 3, 4, 5, 6, 7, 8, 9]\n"
     ]
    }
   ],
   "source": [
    "# if we wanna create list of particular range through list comprehension:\n",
    "\n",
    "mylist = [x for  x in range(0,10)]\n",
    "print(mylist)\n",
    "print('\\n\\n')\n",
    "\n",
    "# Or with range function(generator)\n",
    "\n",
    "mylist = list(range(0,10))\n",
    "print(mylist)"
   ]
  },
  {
   "cell_type": "code",
   "execution_count": 4,
   "metadata": {},
   "outputs": [
    {
     "name": "stdout",
     "output_type": "stream",
     "text": [
      "[0, 1, 4, 9, 16, 25, 36, 49, 64, 81]\n"
     ]
    }
   ],
   "source": [
    "# if wanna square:\n",
    "\n",
    "mylist = [num**2 for num in range(0,10)]\n",
    "print(mylist)"
   ]
  },
  {
   "cell_type": "code",
   "execution_count": 6,
   "metadata": {},
   "outputs": [
    {
     "name": "stdout",
     "output_type": "stream",
     "text": [
      "[0, 2, 4, 6, 8, 10, 12, 14, 16, 18, 20]\n"
     ]
    }
   ],
   "source": [
    "# And we also can add if statements for check even numbers\n",
    "\n",
    "mylist = [num for num in range(0,21) if num%2 == 0 ]\n",
    "print(mylist)"
   ]
  },
  {
   "cell_type": "code",
   "execution_count": 7,
   "metadata": {},
   "outputs": [
    {
     "name": "stdout",
     "output_type": "stream",
     "text": [
      "[0, 'ODD', 2, 'ODD', 4, 'ODD', 6, 'ODD', 8, 'ODD', 10, 'ODD', 12, 'ODD', 14, 'ODD', 16, 'ODD', 18, 'ODD', 20]\n"
     ]
    }
   ],
   "source": [
    "# List comprehensions with if and else\n",
    "\n",
    "mylist = [x if x%2 == 0 else 'ODD' for x in range(0,21)]\n",
    "print(mylist)"
   ]
  },
  {
   "cell_type": "code",
   "execution_count": null,
   "metadata": {},
   "outputs": [],
   "source": []
  }
 ],
 "metadata": {
  "kernelspec": {
   "display_name": "Python 3",
   "language": "python",
   "name": "python3"
  },
  "language_info": {
   "codemirror_mode": {
    "name": "ipython",
    "version": 3
   },
   "file_extension": ".py",
   "mimetype": "text/x-python",
   "name": "python",
   "nbconvert_exporter": "python",
   "pygments_lexer": "ipython3",
   "version": "3.6.5"
  }
 },
 "nbformat": 4,
 "nbformat_minor": 2
}
