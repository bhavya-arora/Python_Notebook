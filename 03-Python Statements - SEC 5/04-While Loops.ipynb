{
 "cells": [
  {
   "cell_type": "code",
   "execution_count": 1,
   "metadata": {},
   "outputs": [
    {
     "name": "stdout",
     "output_type": "stream",
     "text": [
      "Value of x is: 5\n",
      "Value of x is: 6\n",
      "Value of x is: 7\n",
      "Value of x is: 8\n",
      "Value of x is: 9\n"
     ]
    }
   ],
   "source": [
    "#While Loop:\n",
    "\n",
    "x = 5\n",
    "while x<10:\n",
    "    print(f'Value of x is: {x}')\n",
    "    x+=1;"
   ]
  },
  {
   "cell_type": "code",
   "execution_count": 2,
   "metadata": {},
   "outputs": [
    {
     "name": "stdout",
     "output_type": "stream",
     "text": [
      "Value of x is: 5\n",
      "Value of x is: 6\n",
      "Value of x is: 7\n",
      "Value of x is: 8\n",
      "Value of x is: 9\n",
      "Value is greater than 10\n"
     ]
    }
   ],
   "source": [
    "# While with else:\n",
    "\n",
    "x = 5\n",
    "while x < 10:\n",
    "    print(f'Value of x is: {x}')\n",
    "    x+=1\n",
    "else:\n",
    "    print('Value is greater than 10')"
   ]
  },
  {
   "cell_type": "code",
   "execution_count": 3,
   "metadata": {},
   "outputs": [
    {
     "ename": "IndentationError",
     "evalue": "expected an indented block (<ipython-input-3-0c4b31f5f6bb>, line 7)",
     "output_type": "error",
     "traceback": [
      "\u001b[0;36m  File \u001b[0;32m\"<ipython-input-3-0c4b31f5f6bb>\"\u001b[0;36m, line \u001b[0;32m7\u001b[0m\n\u001b[0;31m    print('EOF')\u001b[0m\n\u001b[0m        ^\u001b[0m\n\u001b[0;31mIndentationError\u001b[0m\u001b[0;31m:\u001b[0m expected an indented block\n"
     ]
    }
   ],
   "source": [
    "# We cannot blank under for loop (because of EOF end of file error)\n",
    "\n",
    "a = [1,2,3]\n",
    "for num in a:\n",
    "    #Do Nothing\n",
    "    \n",
    "print('EOF')"
   ]
  },
  {
   "cell_type": "code",
   "execution_count": 4,
   "metadata": {},
   "outputs": [
    {
     "name": "stdout",
     "output_type": "stream",
     "text": [
      "EOF\n"
     ]
    }
   ],
   "source": [
    "# As we've seen above we cannot make statement under for loop blank (Now what we can use is pass keyword)\n",
    "\n",
    "a = [1,2,3]\n",
    "for num in a:\n",
    "    #DO Nothing\n",
    "    pass\n",
    "\n",
    "print('EOF')"
   ]
  },
  {
   "cell_type": "code",
   "execution_count": 5,
   "metadata": {},
   "outputs": [
    {
     "name": "stdout",
     "output_type": "stream",
     "text": [
      "B\n",
      "h\n",
      "v\n",
      "y\n"
     ]
    }
   ],
   "source": [
    "# Continue Keyword in Pythonr\n",
    "\n",
    "for character in 'Bhavya':\n",
    "    if character == 'a':\n",
    "        continue\n",
    "        \n",
    "    print(character)"
   ]
  },
  {
   "cell_type": "code",
   "execution_count": 6,
   "metadata": {},
   "outputs": [
    {
     "name": "stdout",
     "output_type": "stream",
     "text": [
      "B\n",
      "h\n"
     ]
    }
   ],
   "source": [
    "# Break Keyword\n",
    "\n",
    "for character in 'Bhavya':\n",
    "    if character == 'a':\n",
    "        break\n",
    "        \n",
    "    print(character)"
   ]
  },
  {
   "cell_type": "code",
   "execution_count": 7,
   "metadata": {},
   "outputs": [
    {
     "name": "stdout",
     "output_type": "stream",
     "text": [
      "5\n",
      "6\n",
      "7\n"
     ]
    }
   ],
   "source": [
    "# Break with while loop\n",
    "\n",
    "x = 5\n",
    "while x < 10:\n",
    "    if x == 8:\n",
    "        break\n",
    "    print(x)\n",
    "    x+=1"
   ]
  },
  {
   "cell_type": "code",
   "execution_count": null,
   "metadata": {},
   "outputs": [],
   "source": []
  }
 ],
 "metadata": {
  "kernelspec": {
   "display_name": "Python 3",
   "language": "python",
   "name": "python3"
  },
  "language_info": {
   "codemirror_mode": {
    "name": "ipython",
    "version": 3
   },
   "file_extension": ".py",
   "mimetype": "text/x-python",
   "name": "python",
   "nbconvert_exporter": "python",
   "pygments_lexer": "ipython3",
   "version": "3.6.5"
  }
 },
 "nbformat": 4,
 "nbformat_minor": 2
}
