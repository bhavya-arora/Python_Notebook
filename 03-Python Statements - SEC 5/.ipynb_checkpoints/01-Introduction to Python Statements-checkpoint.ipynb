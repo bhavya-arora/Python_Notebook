{
 "cells": [
  {
   "cell_type": "code",
   "execution_count": 1,
   "metadata": {},
   "outputs": [
    {
     "name": "stdout",
     "output_type": "stream",
     "text": [
      "It's always true.\n"
     ]
    }
   ],
   "source": [
    "#  if elif else\n",
    "\n",
    "if True:\n",
    "    print(\"It's always true.\")"
   ]
  },
  {
   "cell_type": "code",
   "execution_count": 2,
   "metadata": {},
   "outputs": [
    {
     "name": "stdout",
     "output_type": "stream",
     "text": [
      "2 is not greater than 3\n"
     ]
    }
   ],
   "source": [
    "# Give some condition\n",
    "\n",
    "if 2 > 3:\n",
    "    print('2 is greater than 3')\n",
    "else:\n",
    "    print('2 is not greater than 3')"
   ]
  },
  {
   "cell_type": "code",
   "execution_count": 4,
   "metadata": {},
   "outputs": [
    {
     "name": "stdout",
     "output_type": "stream",
     "text": [
      "Hello Bhavya\n"
     ]
    }
   ],
   "source": [
    "name = 'Bhavya'\n",
    "\n",
    "if name == 'Arora':\n",
    "    print(\"Hello Arora\")\n",
    "\n",
    "elif name == 'Bhavya':\n",
    "    print('Hello Bhavya')\n",
    "        \n",
    "else:\n",
    "    print('Hello Stranger')"
   ]
  },
  {
   "cell_type": "code",
   "execution_count": null,
   "metadata": {},
   "outputs": [],
   "source": []
  }
 ],
 "metadata": {
  "kernelspec": {
   "display_name": "Python 3",
   "language": "python",
   "name": "python3"
  },
  "language_info": {
   "codemirror_mode": {
    "name": "ipython",
    "version": 3
   },
   "file_extension": ".py",
   "mimetype": "text/x-python",
   "name": "python",
   "nbconvert_exporter": "python",
   "pygments_lexer": "ipython3",
   "version": "3.6.5"
  }
 },
 "nbformat": 4,
 "nbformat_minor": 2
}
