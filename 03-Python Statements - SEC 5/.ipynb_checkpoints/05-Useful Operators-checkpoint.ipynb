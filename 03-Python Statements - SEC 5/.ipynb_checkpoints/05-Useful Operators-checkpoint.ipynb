{
 "cells": [
  {
   "cell_type": "code",
   "execution_count": 1,
   "metadata": {},
   "outputs": [
    {
     "name": "stdout",
     "output_type": "stream",
     "text": [
      "0\n",
      "1\n",
      "2\n",
      "3\n",
      "4\n",
      "5\n",
      "6\n",
      "7\n",
      "8\n",
      "9\n"
     ]
    }
   ],
   "source": [
    "# range keyword in for loop\n",
    "\n",
    "for num in range(10):\n",
    "    print(num)"
   ]
  },
  {
   "cell_type": "code",
   "execution_count": 2,
   "metadata": {},
   "outputs": [
    {
     "name": "stdout",
     "output_type": "stream",
     "text": [
      "0\n",
      "3\n",
      "6\n",
      "9\n",
      "12\n",
      "15\n",
      "18\n"
     ]
    }
   ],
   "source": [
    "# range operator in for loop with 3 params (range(start, stop, step size))\n",
    "# range function is a operator or generator which returns the list of numbers\n",
    "\n",
    "for num in range(0, 20, 3):\n",
    "    print(num)"
   ]
  },
  {
   "cell_type": "code",
   "execution_count": 3,
   "metadata": {},
   "outputs": [
    {
     "name": "stdout",
     "output_type": "stream",
     "text": [
      "range(0, 20, 3)\n"
     ]
    }
   ],
   "source": [
    "# range is a generator returns a list\n",
    "\n",
    "a = range(0, 20, 3)\n",
    "print(a)"
   ]
  },
  {
   "cell_type": "code",
   "execution_count": 4,
   "metadata": {},
   "outputs": [
    {
     "name": "stdout",
     "output_type": "stream",
     "text": [
      "[0, 3, 6, 9, 12, 15, 18]\n"
     ]
    }
   ],
   "source": [
    "a = list(range(0, 20, 3))\n",
    "print(a)"
   ]
  },
  {
   "cell_type": "markdown",
   "metadata": {},
   "source": [
    "# Enumerate"
   ]
  },
  {
   "cell_type": "code",
   "execution_count": 5,
   "metadata": {},
   "outputs": [
    {
     "name": "stdout",
     "output_type": "stream",
     "text": [
      "The character B is at position: 0\n",
      "The character h is at position: 1\n",
      "The character a is at position: 2\n",
      "The character v is at position: 3\n",
      "The character y is at position: 4\n",
      "The character a is at position: 5\n"
     ]
    }
   ],
   "source": [
    "# if want index_count that is how many times a for ran. So what we usually do is:\n",
    "\n",
    "index_count = 0\n",
    "\n",
    "for a in 'Bhavya':\n",
    "    print(f'The character {a} is at position: {index_count}')\n",
    "    index_count+=1"
   ]
  },
  {
   "cell_type": "code",
   "execution_count": 6,
   "metadata": {},
   "outputs": [
    {
     "name": "stdout",
     "output_type": "stream",
     "text": [
      "(0, 'B')\n",
      "(1, 'h')\n",
      "(2, 'a')\n",
      "(3, 'v')\n",
      "(4, 'y')\n",
      "(5, 'a')\n"
     ]
    }
   ],
   "source": [
    "# But above step is long (in python we have shortcut)\n",
    "\n",
    "for a in enumerate('Bhavya'):\n",
    "    print(a)"
   ]
  },
  {
   "cell_type": "code",
   "execution_count": 7,
   "metadata": {},
   "outputs": [
    {
     "name": "stdout",
     "output_type": "stream",
     "text": [
      "0\n",
      "1\n",
      "2\n",
      "3\n",
      "4\n",
      "5\n"
     ]
    }
   ],
   "source": [
    "for a,b in enumerate('Bhavya'):\n",
    "    print(a)"
   ]
  },
  {
   "cell_type": "markdown",
   "metadata": {},
   "source": [
    "# ZIP Function"
   ]
  },
  {
   "cell_type": "code",
   "execution_count": 8,
   "metadata": {},
   "outputs": [
    {
     "name": "stdout",
     "output_type": "stream",
     "text": [
      "(1, 7, 'a')\n",
      "(2, 8, 'b')\n",
      "(3, 9, 'c')\n"
     ]
    }
   ],
   "source": [
    "a = [1,2,3,4,5]\n",
    "b = [7, 8, 9]\n",
    "c = ['a', 'b', 'c', 'd', 'e', 'f']\n",
    "\n",
    "for item in zip(a, b, c):\n",
    "    print(item)"
   ]
  },
  {
   "cell_type": "code",
   "execution_count": 9,
   "metadata": {},
   "outputs": [
    {
     "name": "stdout",
     "output_type": "stream",
     "text": [
      "1\n",
      "2\n",
      "3\n"
     ]
    }
   ],
   "source": [
    "# Tuple Unpacking in Zip:\n",
    "\n",
    "a = [1,2,3,4,5]\n",
    "b = [7, 8, 9]\n",
    "c = ['a', 'b', 'c', 'd', 'e', 'f']\n",
    "\n",
    "for e, f, g in zip(a, b, c):\n",
    "    print(e)"
   ]
  },
  {
   "cell_type": "code",
   "execution_count": 10,
   "metadata": {},
   "outputs": [
    {
     "name": "stdout",
     "output_type": "stream",
     "text": [
      "<zip object at 0x7f066ff8df48>\n"
     ]
    }
   ],
   "source": [
    "a = [1,2,3,4,5]\n",
    "b = [7, 8, 9]\n",
    "c = ['a', 'b', 'c', 'd', 'e', 'f']\n",
    "\n",
    "print(zip(a,b,c))"
   ]
  },
  {
   "cell_type": "code",
   "execution_count": 11,
   "metadata": {},
   "outputs": [
    {
     "name": "stdout",
     "output_type": "stream",
     "text": [
      "[(1, 7, 'a'), (2, 8, 'b'), (3, 9, 'c')]\n"
     ]
    }
   ],
   "source": [
    "# If we want list from zip object what we can is put zip object in list:\n",
    "\n",
    "a = [1,2,3,4,5]\n",
    "b = [7, 8, 9]\n",
    "c = ['a', 'b', 'c', 'd', 'e', 'f']\n",
    "\n",
    "print(list(zip(a,b,c)))"
   ]
  },
  {
   "cell_type": "markdown",
   "metadata": {},
   "source": [
    "# 'in' Keyword"
   ]
  },
  {
   "cell_type": "code",
   "execution_count": 12,
   "metadata": {},
   "outputs": [
    {
     "name": "stdout",
     "output_type": "stream",
     "text": [
      "True\n"
     ]
    }
   ],
   "source": [
    "a = [1,2,3,4]\n",
    "print(1 in a)"
   ]
  },
  {
   "cell_type": "code",
   "execution_count": 13,
   "metadata": {},
   "outputs": [
    {
     "name": "stdout",
     "output_type": "stream",
     "text": [
      "False\n"
     ]
    }
   ],
   "source": [
    "b = ['x', 'f', 'h']\n",
    "print('a' in b)"
   ]
  },
  {
   "cell_type": "code",
   "execution_count": 14,
   "metadata": {},
   "outputs": [
    {
     "name": "stdout",
     "output_type": "stream",
     "text": [
      "True\n"
     ]
    }
   ],
   "source": [
    "# in Keyword work with iterables\n",
    "print('a' in 'Bhavya')"
   ]
  },
  {
   "cell_type": "code",
   "execution_count": 15,
   "metadata": {},
   "outputs": [
    {
     "name": "stdout",
     "output_type": "stream",
     "text": [
      "True\n"
     ]
    }
   ],
   "source": [
    "# 'in' Keyword with Dictinaries:\n",
    "\n",
    "a = {'mykey': 123}\n",
    "print('mykey' in a)"
   ]
  },
  {
   "cell_type": "code",
   "execution_count": 16,
   "metadata": {},
   "outputs": [
    {
     "name": "stdout",
     "output_type": "stream",
     "text": [
      "True\n"
     ]
    }
   ],
   "source": [
    "a = {'mykey': 123}\n",
    "print(123 in a.values())"
   ]
  },
  {
   "cell_type": "markdown",
   "metadata": {},
   "source": [
    "# 'min()' and 'max()'"
   ]
  },
  {
   "cell_type": "code",
   "execution_count": 17,
   "metadata": {},
   "outputs": [
    {
     "name": "stdout",
     "output_type": "stream",
     "text": [
      "1\n",
      "1132\n"
     ]
    }
   ],
   "source": [
    "a = [5,24,1132,14,2,1,6]\n",
    "print(min(a))\n",
    "print(max(a))"
   ]
  },
  {
   "cell_type": "markdown",
   "metadata": {},
   "source": [
    "# Random Library"
   ]
  },
  {
   "cell_type": "code",
   "execution_count": 18,
   "metadata": {},
   "outputs": [
    {
     "name": "stdout",
     "output_type": "stream",
     "text": [
      "[2, 5, 6, 9, 3, 8, 1, 7, 4]\n"
     ]
    }
   ],
   "source": [
    "from random import shuffle\n",
    "a = [1,2,3,4,5,6,7,8,9]\n",
    "shuffle(a)\n",
    "\n",
    "print(a)"
   ]
  },
  {
   "cell_type": "code",
   "execution_count": 19,
   "metadata": {},
   "outputs": [
    {
     "name": "stdout",
     "output_type": "stream",
     "text": [
      "93\n"
     ]
    }
   ],
   "source": [
    "#This will print the random integer\n",
    "from random import randint\n",
    "\n",
    "print(randint(0,100))"
   ]
  },
  {
   "cell_type": "markdown",
   "metadata": {},
   "source": [
    "# User Input"
   ]
  },
  {
   "cell_type": "code",
   "execution_count": 21,
   "metadata": {},
   "outputs": [
    {
     "name": "stdout",
     "output_type": "stream",
     "text": [
      "What's your name?Bhavya Arora\n",
      "Bhavya Arora\n"
     ]
    }
   ],
   "source": [
    "a = input('What\\'s your name?')\n",
    "\n",
    "print(a)"
   ]
  },
  {
   "cell_type": "code",
   "execution_count": 22,
   "metadata": {},
   "outputs": [
    {
     "name": "stdout",
     "output_type": "stream",
     "text": [
      "Enter the Number1\n",
      "1\n"
     ]
    },
    {
     "data": {
      "text/plain": [
       "str"
      ]
     },
     "execution_count": 22,
     "metadata": {},
     "output_type": "execute_result"
    }
   ],
   "source": [
    "b = input('Enter the Number')\n",
    "\n",
    "print(b)\n",
    "type(b)"
   ]
  },
  {
   "cell_type": "code",
   "execution_count": 23,
   "metadata": {},
   "outputs": [
    {
     "name": "stdout",
     "output_type": "stream",
     "text": [
      "Enter the Number1\n",
      "1\n",
      "1\n"
     ]
    },
    {
     "data": {
      "text/plain": [
       "str"
      ]
     },
     "execution_count": 23,
     "metadata": {},
     "output_type": "execute_result"
    }
   ],
   "source": [
    "# if want an integer we have to case it\n",
    "\n",
    "c = input('Enter the Number')\n",
    "print(c)\n",
    "type(c)\n",
    "print(int(c))\n",
    "type(c)"
   ]
  },
  {
   "cell_type": "code",
   "execution_count": null,
   "metadata": {},
   "outputs": [],
   "source": []
  }
 ],
 "metadata": {
  "kernelspec": {
   "display_name": "Python 3",
   "language": "python",
   "name": "python3"
  },
  "language_info": {
   "codemirror_mode": {
    "name": "ipython",
    "version": 3
   },
   "file_extension": ".py",
   "mimetype": "text/x-python",
   "name": "python",
   "nbconvert_exporter": "python",
   "pygments_lexer": "ipython3",
   "version": "3.6.5"
  }
 },
 "nbformat": 4,
 "nbformat_minor": 2
}
