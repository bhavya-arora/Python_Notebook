{
 "cells": [
  {
   "cell_type": "code",
   "execution_count": 1,
   "metadata": {},
   "outputs": [
    {
     "name": "stdout",
     "output_type": "stream",
     "text": [
      "1\n",
      "2\n",
      "3\n",
      "4\n",
      "5\n",
      "6\n",
      "7\n",
      "8\n",
      "9\n",
      "10\n"
     ]
    }
   ],
   "source": [
    "# Iterate over list\n",
    "\n",
    "mylist = [1,2,3,4,5,6,7,8,9,10]\n",
    "for num in mylist:\n",
    "    print(num)"
   ]
  },
  {
   "cell_type": "code",
   "execution_count": 3,
   "metadata": {},
   "outputs": [
    {
     "name": "stdout",
     "output_type": "stream",
     "text": [
      "Odd number is 1:\n",
      "Even Number is 2:\n",
      "Odd number is 3:\n",
      "Even Number is 4:\n",
      "Odd number is 5:\n",
      "Even Number is 6:\n",
      "Odd number is 7:\n",
      "Even Number is 8:\n",
      "Odd number is 9:\n",
      "Even Number is 10:\n"
     ]
    }
   ],
   "source": [
    "# Printing Even and Odd number\n",
    "\n",
    "mylist = [1,2,3,4,5,6,7,8,9,10]\n",
    "\n",
    "for num in mylist:\n",
    "    if num % 2 == 0:\n",
    "        print(f'Even Number is {num}:')\n",
    "    else:\n",
    "        print(f'Odd number is {num}:')"
   ]
  },
  {
   "cell_type": "code",
   "execution_count": 4,
   "metadata": {},
   "outputs": [
    {
     "name": "stdout",
     "output_type": "stream",
     "text": [
      "55\n"
     ]
    }
   ],
   "source": [
    "#Sum of list items\n",
    "\n",
    "mylist = [1,2,3,4,5,6,7,8,9,10]\n",
    "total = 0\n",
    "for num in mylist:\n",
    "    total = total + num\n",
    "    \n",
    "print(total)    "
   ]
  },
  {
   "cell_type": "code",
   "execution_count": 5,
   "metadata": {},
   "outputs": [
    {
     "name": "stdout",
     "output_type": "stream",
     "text": [
      "B\n",
      "h\n",
      "a\n",
      "v\n",
      "y\n",
      "a\n",
      " \n",
      "A\n",
      "r\n",
      "o\n",
      "r\n",
      "a\n"
     ]
    }
   ],
   "source": [
    "# Iterate over String\n",
    "\n",
    "for char in 'Bhavya Arora':\n",
    "    print(char)"
   ]
  },
  {
   "cell_type": "code",
   "execution_count": 6,
   "metadata": {},
   "outputs": [
    {
     "name": "stdout",
     "output_type": "stream",
     "text": [
      "Hello World\n",
      "Hello World\n",
      "Hello World\n",
      "Hello World\n",
      "Hello World\n",
      "Hello World\n",
      "Hello World\n",
      "Hello World\n",
      "Hello World\n",
      "Hello World\n",
      "Hello World\n",
      "Hello World\n"
     ]
    }
   ],
   "source": [
    "# Blank Variable name (see here it will interate the characters in the Bhavya Arora String times)\n",
    "\n",
    "for _ in 'Bhavya Arora':\n",
    "    print('Hello World')"
   ]
  },
  {
   "cell_type": "code",
   "execution_count": 7,
   "metadata": {},
   "outputs": [
    {
     "name": "stdout",
     "output_type": "stream",
     "text": [
      "1\n",
      "2\n",
      "3\n",
      "4\n"
     ]
    }
   ],
   "source": [
    "# Tuples\n",
    "\n",
    "mytuple = (1,2,3,4)\n",
    "for num in mytuple:\n",
    "    print(num)"
   ]
  },
  {
   "cell_type": "code",
   "execution_count": 10,
   "metadata": {},
   "outputs": [
    {
     "name": "stdout",
     "output_type": "stream",
     "text": [
      "1\n",
      "3\n",
      "5\n",
      "7\n",
      "9\n"
     ]
    }
   ],
   "source": [
    "# Tuples unpacking and assigning two variable name\n",
    "\n",
    "mytuple = [(1,2),(3,4),(5,6),(7,8),(9,10)]\n",
    "\n",
    "for a,b in mytuple:\n",
    "    print(a)"
   ]
  },
  {
   "cell_type": "code",
   "execution_count": 11,
   "metadata": {},
   "outputs": [
    {
     "name": "stdout",
     "output_type": "stream",
     "text": [
      "Key1\n",
      "Key2\n",
      "Key3\n",
      "Key4\n"
     ]
    }
   ],
   "source": [
    "# Iterate over Dictionary\n",
    "\n",
    "mydict = {'Key1': 1, 'Key2': 2, 'Key3': 3, 'Key4': 4}\n",
    "for num in mydict:\n",
    "    print(num)"
   ]
  },
  {
   "cell_type": "code",
   "execution_count": 12,
   "metadata": {},
   "outputs": [
    {
     "name": "stdout",
     "output_type": "stream",
     "text": [
      "('Key1', 1)\n",
      "('Key2', 2)\n",
      "('Key3', 3)\n",
      "('Key4', 4)\n"
     ]
    }
   ],
   "source": [
    "mydict = {'Key1': 1, 'Key2': 2, 'Key3': 3, 'Key4': 4}\n",
    "\n",
    "for num in mydict.items():\n",
    "    print(num)"
   ]
  },
  {
   "cell_type": "code",
   "execution_count": 13,
   "metadata": {},
   "outputs": [
    {
     "name": "stdout",
     "output_type": "stream",
     "text": [
      "1\n",
      "2\n",
      "3\n",
      "4\n"
     ]
    }
   ],
   "source": [
    "#We can iterate over Dictionary items and get key or values(Because mydict.items() return the list of tuples)\n",
    "\n",
    "mydict = {'Key1': 1, 'Key2': 2, 'Key3': 3, 'Key4': 4}\n",
    "\n",
    "for key, value in mydict.items():\n",
    "    print(value)"
   ]
  },
  {
   "cell_type": "code",
   "execution_count": null,
   "metadata": {},
   "outputs": [],
   "source": []
  }
 ],
 "metadata": {
  "kernelspec": {
   "display_name": "Python 3",
   "language": "python",
   "name": "python3"
  },
  "language_info": {
   "codemirror_mode": {
    "name": "ipython",
    "version": 3
   },
   "file_extension": ".py",
   "mimetype": "text/x-python",
   "name": "python",
   "nbconvert_exporter": "python",
   "pygments_lexer": "ipython3",
   "version": "3.6.5"
  }
 },
 "nbformat": 4,
 "nbformat_minor": 2
}
