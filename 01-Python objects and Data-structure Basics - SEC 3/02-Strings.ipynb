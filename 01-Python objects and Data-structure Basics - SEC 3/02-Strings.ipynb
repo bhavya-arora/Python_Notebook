{
 "cells": [
  {
   "cell_type": "code",
   "execution_count": 1,
   "metadata": {},
   "outputs": [
    {
     "data": {
      "text/plain": [
       "6"
      ]
     },
     "execution_count": 1,
     "metadata": {},
     "output_type": "execute_result"
    }
   ],
   "source": [
    "len('Bhavya')"
   ]
  },
  {
   "cell_type": "code",
   "execution_count": 2,
   "metadata": {},
   "outputs": [
    {
     "name": "stdout",
     "output_type": "stream",
     "text": [
      "a\n"
     ]
    }
   ],
   "source": [
    "# Indexing\n",
    "a = 'Bhavya'\n",
    "print(a[2])"
   ]
  },
  {
   "cell_type": "code",
   "execution_count": 3,
   "metadata": {},
   "outputs": [
    {
     "name": "stdout",
     "output_type": "stream",
     "text": [
      "a\n",
      "y\n"
     ]
    }
   ],
   "source": [
    "# Reverse Indexing\n",
    "a = 'Bhavya'\n",
    "print(a[-1])\n",
    "print(a[-2])"
   ]
  },
  {
   "cell_type": "code",
   "execution_count": 4,
   "metadata": {},
   "outputs": [
    {
     "name": "stdout",
     "output_type": "stream",
     "text": [
      "avya\n",
      "Bhavya\n",
      "av\n"
     ]
    }
   ],
   "source": [
    "# Slicing\n",
    "a = 'Bhavya'\n",
    "print(a[2:])\n",
    "print(a[:])\n",
    "print(a[2:4])"
   ]
  },
  {
   "cell_type": "code",
   "execution_count": 6,
   "metadata": {},
   "outputs": [
    {
     "name": "stdout",
     "output_type": "stream",
     "text": [
      "acegikmo\n"
     ]
    }
   ],
   "source": [
    "# Slicing with step (start:stop:step)\n",
    "a = 'abcdefghijklmnop'\n",
    "print(a[::2])"
   ]
  },
  {
   "cell_type": "code",
   "execution_count": 7,
   "metadata": {},
   "outputs": [
    {
     "name": "stdout",
     "output_type": "stream",
     "text": [
      "ayvahB\n"
     ]
    }
   ],
   "source": [
    "# Reverse the String (Go all the way to end and take backward steps)\n",
    "a = 'Bhavya'\n",
    "print(a[::-1])"
   ]
  },
  {
   "cell_type": "markdown",
   "metadata": {},
   "source": [
    "# String Properties and Methods"
   ]
  },
  {
   "cell_type": "code",
   "execution_count": 9,
   "metadata": {},
   "outputs": [
    {
     "name": "stdout",
     "output_type": "stream",
     "text": [
      "Bjavya\n",
      "Ohhh no my name is incorrect....how i change it now....\n",
      "Bhavya\n"
     ]
    }
   ],
   "source": [
    "# String Immutibility (We cannot change anything in the String But we can with Concatenation)\n",
    "\n",
    "a = 'Bjavya'\n",
    "print(a)\n",
    "print('Ohhh no my name is incorrect....how i change it now....')\n",
    "\n",
    "b = a[2:]\n",
    "print('Bh' + b)"
   ]
  },
  {
   "cell_type": "code",
   "execution_count": 10,
   "metadata": {},
   "outputs": [
    {
     "name": "stdout",
     "output_type": "stream",
     "text": [
      "aaaaaaaaaa\n"
     ]
    }
   ],
   "source": [
    "# Multiplication of Characters\n",
    "letter = 'a'\n",
    "print(letter * 10)"
   ]
  },
  {
   "cell_type": "code",
   "execution_count": 11,
   "metadata": {},
   "outputs": [
    {
     "name": "stdout",
     "output_type": "stream",
     "text": [
      "BHAVYA\n",
      "Bhavya\n"
     ]
    }
   ],
   "source": [
    "# String Upper (But it cannot affect original String)\n",
    "\n",
    "a = 'Bhavya'\n",
    "print(a.upper())\n",
    "print(a)"
   ]
  },
  {
   "cell_type": "code",
   "execution_count": 12,
   "metadata": {},
   "outputs": [
    {
     "name": "stdout",
     "output_type": "stream",
     "text": [
      "['Hello', 'World']\n"
     ]
    }
   ],
   "source": [
    "# Splitting the String\n",
    "\n",
    "a = 'Hello World'\n",
    "print(a.split())"
   ]
  },
  {
   "cell_type": "code",
   "execution_count": 13,
   "metadata": {},
   "outputs": [
    {
     "name": "stdout",
     "output_type": "stream",
     "text": [
      "['H', ' th', 's ', 's a Str', 'ng']\n"
     ]
    }
   ],
   "source": [
    "# Split with Character\n",
    "a = 'Hi this is a String'\n",
    "print(a.split('i'))"
   ]
  },
  {
   "cell_type": "markdown",
   "metadata": {},
   "source": [
    "## STRING FORMATTING"
   ]
  },
  {
   "cell_type": "code",
   "execution_count": 1,
   "metadata": {},
   "outputs": [
    {
     "name": "stdout",
     "output_type": "stream",
     "text": [
      "Hey I am Bhavya\n"
     ]
    }
   ],
   "source": [
    "# By .format() method\n",
    "\n",
    "print('Hey I am {}'.format('Bhavya'))"
   ]
  },
  {
   "cell_type": "code",
   "execution_count": 2,
   "metadata": {},
   "outputs": [
    {
     "name": "stdout",
     "output_type": "stream",
     "text": [
      "Hey I am Bhavya good at Programming\n",
      "Hey I am Bhavya good at Programming\n"
     ]
    }
   ],
   "source": [
    "# By .format but this time with index position\n",
    "\n",
    "print('Hey I am {} good at {}'.format('Bhavya', 'Programming'))\n",
    "print('Hey I am {1} good at {0}'.format('Programming', 'Bhavya'))"
   ]
  },
  {
   "cell_type": "code",
   "execution_count": 3,
   "metadata": {},
   "outputs": [
    {
     "name": "stdout",
     "output_type": "stream",
     "text": [
      "Hey I am Bhavya good at Programming\n"
     ]
    }
   ],
   "source": [
    "# By .format but using variable Assignment\n",
    "\n",
    "print('Hey I am {b} good at {p}'.format(b = 'Bhavya', p = 'Programming'))"
   ]
  },
  {
   "cell_type": "code",
   "execution_count": 4,
   "metadata": {},
   "outputs": [
    {
     "name": "stdout",
     "output_type": "stream",
     "text": [
      "The float formatting was      0.129\n"
     ]
    }
   ],
   "source": [
    "# This is Float Formatting {value:width.precision f}\n",
    "\n",
    "a = 100/777\n",
    "print('The float formatting was {r:10.3f}'.format(r = a))"
   ]
  },
  {
   "cell_type": "code",
   "execution_count": 5,
   "metadata": {},
   "outputs": [
    {
     "name": "stdout",
     "output_type": "stream",
     "text": [
      "My name is Bhavya Arora\n"
     ]
    }
   ],
   "source": [
    "# Formatting with 'f' String literal\n",
    "\n",
    "fname = 'Bhavya'\n",
    "lname = 'Arora'\n",
    "print(f'My name is {fname} {lname}')"
   ]
  },
  {
   "cell_type": "code",
   "execution_count": 6,
   "metadata": {},
   "outputs": [
    {
     "name": "stdout",
     "output_type": "stream",
     "text": [
      "My name is Bhavya Arora\n"
     ]
    }
   ],
   "source": [
    "# String Formatting by modulo\n",
    "\n",
    "print('My name is %s %s' %('Bhavya', 'Arora'))"
   ]
  },
  {
   "cell_type": "code",
   "execution_count": null,
   "metadata": {},
   "outputs": [],
   "source": []
  }
 ],
 "metadata": {
  "kernelspec": {
   "display_name": "Python 3",
   "language": "python",
   "name": "python3"
  },
  "language_info": {
   "codemirror_mode": {
    "name": "ipython",
    "version": 3
   },
   "file_extension": ".py",
   "mimetype": "text/x-python",
   "name": "python",
   "nbconvert_exporter": "python",
   "pygments_lexer": "ipython3",
   "version": "3.6.5"
  }
 },
 "nbformat": 4,
 "nbformat_minor": 2
}
