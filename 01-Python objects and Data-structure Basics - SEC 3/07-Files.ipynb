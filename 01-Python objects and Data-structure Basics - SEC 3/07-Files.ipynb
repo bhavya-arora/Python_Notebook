{
 "cells": [
  {
   "cell_type": "code",
   "execution_count": 1,
   "metadata": {},
   "outputs": [
    {
     "name": "stdout",
     "output_type": "stream",
     "text": [
      "Writing myfile.txt\n"
     ]
    }
   ],
   "source": [
    "%%writefile myfile.txt\n",
    "THis is the First line of my file\n",
    "and this is the second line of myfile\n",
    "this one obviously is the third line of the file"
   ]
  },
  {
   "cell_type": "code",
   "execution_count": 2,
   "metadata": {},
   "outputs": [],
   "source": [
    "myfile = open('myfile.txt')"
   ]
  },
  {
   "cell_type": "code",
   "execution_count": 4,
   "metadata": {},
   "outputs": [
    {
     "data": {
      "text/plain": [
       "'/home/bhavya/Desktop/Udemy-Python/Python objects and Data-structure Basics - SEC 3'"
      ]
     },
     "execution_count": 4,
     "metadata": {},
     "output_type": "execute_result"
    }
   ],
   "source": [
    "pwd"
   ]
  },
  {
   "cell_type": "code",
   "execution_count": 5,
   "metadata": {},
   "outputs": [
    {
     "name": "stdout",
     "output_type": "stream",
     "text": [
      "THis is the First line of my file\n",
      "and this is the second line of myfile\n",
      "this one obviously is the third line of the file\n"
     ]
    }
   ],
   "source": [
    "# How to read from the file\n",
    "\n",
    "myfile = open('myfile.txt')\n",
    "print(myfile.read())"
   ]
  },
  {
   "cell_type": "code",
   "execution_count": 6,
   "metadata": {},
   "outputs": [
    {
     "name": "stdout",
     "output_type": "stream",
     "text": [
      "\n",
      "THis is the First line of my file\n",
      "and this is the second line of myfile\n",
      "this one obviously is the third line of the file\n"
     ]
    }
   ],
   "source": [
    "# Cursor at the end\n",
    "\n",
    "print(myfile.read())\n",
    "\n",
    "myfile = open('myfile.txt')\n",
    "print(myfile.read())"
   ]
  },
  {
   "cell_type": "code",
   "execution_count": 7,
   "metadata": {},
   "outputs": [
    {
     "name": "stdout",
     "output_type": "stream",
     "text": [
      "THis is the First line of my file\n",
      "and this is the second line of myfile\n",
      "this one obviously is the third line of the file\n"
     ]
    }
   ],
   "source": [
    "# And if we want to read from the file which is already read (means cursor at the end) what we can do is:\n",
    "\n",
    "myfile.seek(0)\n",
    "print(myfile.read())"
   ]
  },
  {
   "cell_type": "code",
   "execution_count": 8,
   "metadata": {},
   "outputs": [
    {
     "name": "stdout",
     "output_type": "stream",
     "text": [
      "['THis is the First line of my file\\n', 'and this is the second line of myfile\\n', 'this one obviously is the third line of the file']\n"
     ]
    }
   ],
   "source": [
    "# And if we can each line as a list (this will return list of each line separated through comma):\n",
    "\n",
    "myfile.seek(0)\n",
    "print(myfile.readlines())"
   ]
  },
  {
   "cell_type": "code",
   "execution_count": 9,
   "metadata": {},
   "outputs": [],
   "source": [
    "# If we want to access some other file then we have to provide full file path and have to close the file after the use\n",
    "\n",
    "myfile.close()"
   ]
  },
  {
   "cell_type": "code",
   "execution_count": 10,
   "metadata": {},
   "outputs": [
    {
     "name": "stdout",
     "output_type": "stream",
     "text": [
      "THis is the First line of my file\n",
      "and this is the second line of myfile\n",
      "this one obviously is the third line of the file\n"
     ]
    }
   ],
   "source": [
    "# if we don't want to worry about file closing what we can do is like:\n",
    "\n",
    "with open('myfile.txt') as myfile:\n",
    "    print(myfile.read())"
   ]
  },
  {
   "cell_type": "code",
   "execution_count": 11,
   "metadata": {},
   "outputs": [
    {
     "name": "stdout",
     "output_type": "stream",
     "text": [
      "Writing newfile.txt\n"
     ]
    }
   ],
   "source": [
    "%%writefile newfile.txt\n",
    "THis is new FIle first line\n",
    "and this line is second one of newfile\n",
    "and this one is third line as you can see"
   ]
  },
  {
   "cell_type": "code",
   "execution_count": 13,
   "metadata": {},
   "outputs": [],
   "source": [
    "# Wrtting to a file\n",
    "\n",
    "with open('newfile.txt', mode = 'a') as newfile:\n",
    "    newfile.write('This is the fourth line of newfile')"
   ]
  },
  {
   "cell_type": "code",
   "execution_count": 14,
   "metadata": {},
   "outputs": [
    {
     "name": "stdout",
     "output_type": "stream",
     "text": [
      "THis is new FIle first line\n",
      "and this line is second one of newfile\n",
      "and this one is third line as you can seeThis is the fourth line of newfile\n"
     ]
    }
   ],
   "source": [
    "# Now Check if Fourth line is added in the newfile.txt or not\n",
    "\n",
    "with open('newfile.txt', mode = 'r') as newfile:\n",
    "    print(newfile.read())"
   ]
  },
  {
   "cell_type": "code",
   "execution_count": 15,
   "metadata": {},
   "outputs": [],
   "source": [
    "# If we use mode = 'w' so this will make a new file or override the existing file:\n",
    "\n",
    "with open('subusbbsbwb.txt', mode = 'w') as demo:\n",
    "    demo.write('THis is the random file')"
   ]
  },
  {
   "cell_type": "code",
   "execution_count": 16,
   "metadata": {},
   "outputs": [
    {
     "name": "stdout",
     "output_type": "stream",
     "text": [
      "THis is the First line of my file\n",
      "\n",
      "and this is the second line of myfile\n",
      "\n",
      "this one obviously is the third line of the file\n"
     ]
    }
   ],
   "source": [
    "# We can read by for loop:\n",
    "for line in open('myfile.txt'):\n",
    "    print(line)"
   ]
  },
  {
   "cell_type": "code",
   "execution_count": null,
   "metadata": {},
   "outputs": [],
   "source": []
  }
 ],
 "metadata": {
  "kernelspec": {
   "display_name": "Python 3",
   "language": "python",
   "name": "python3"
  },
  "language_info": {
   "codemirror_mode": {
    "name": "ipython",
    "version": 3
   },
   "file_extension": ".py",
   "mimetype": "text/x-python",
   "name": "python",
   "nbconvert_exporter": "python",
   "pygments_lexer": "ipython3",
   "version": "3.6.5"
  }
 },
 "nbformat": 4,
 "nbformat_minor": 2
}
