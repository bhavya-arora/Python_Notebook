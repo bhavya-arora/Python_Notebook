{
 "cells": [
  {
   "cell_type": "code",
   "execution_count": 1,
   "metadata": {},
   "outputs": [
    {
     "name": "stdout",
     "output_type": "stream",
     "text": [
      "3\n"
     ]
    }
   ],
   "source": [
    "#List Length and can hold many data types\n",
    "\n",
    "a = ['String', 100, 10.2]\n",
    "print(len(a))"
   ]
  },
  {
   "cell_type": "code",
   "execution_count": 2,
   "metadata": {},
   "outputs": [
    {
     "name": "stdout",
     "output_type": "stream",
     "text": [
      "Two\n"
     ]
    }
   ],
   "source": [
    "# List Indexing\n",
    "\n",
    "a = ['One', 'Two', 'Three']\n",
    "print(a[1])"
   ]
  },
  {
   "cell_type": "code",
   "execution_count": 4,
   "metadata": {},
   "outputs": [
    {
     "name": "stdout",
     "output_type": "stream",
     "text": [
      "['Two', 'Three']\n"
     ]
    }
   ],
   "source": [
    "# Slicing of Lists\n",
    "\n",
    "a = ['One', 'Two', 'Three']\n",
    "print(a[1:])"
   ]
  },
  {
   "cell_type": "code",
   "execution_count": 5,
   "metadata": {},
   "outputs": [
    {
     "name": "stdout",
     "output_type": "stream",
     "text": [
      "['One', 'Two', 'Three', 'Four', 'Five', 'Six']\n"
     ]
    }
   ],
   "source": [
    "# Concatenation of lists\n",
    "\n",
    "a = ['One', 'Two', 'Three']\n",
    "b = ['Four', 'Five', 'Six']\n",
    "\n",
    "print(a + b)"
   ]
  },
  {
   "cell_type": "code",
   "execution_count": 7,
   "metadata": {},
   "outputs": [
    {
     "name": "stdout",
     "output_type": "stream",
     "text": [
      "['Four', 'Five', 'Six', 'Seven', 'Seven']\n"
     ]
    }
   ],
   "source": [
    "# How to Append particular item in the list\n",
    "\n",
    "b.append('Seven')\n",
    "print(b)"
   ]
  },
  {
   "cell_type": "code",
   "execution_count": 10,
   "metadata": {},
   "outputs": [
    {
     "name": "stdout",
     "output_type": "stream",
     "text": [
      "Six\n",
      "['Four', 'Five']\n"
     ]
    }
   ],
   "source": [
    "# How to remove last item from the list\n",
    "\n",
    "print(b.pop())\n",
    "print(b)"
   ]
  },
  {
   "cell_type": "code",
   "execution_count": 11,
   "metadata": {},
   "outputs": [
    {
     "name": "stdout",
     "output_type": "stream",
     "text": [
      "['Bhavya', 'Arora']\n"
     ]
    }
   ],
   "source": [
    "# How to remove list item at specific Position\n",
    "\n",
    "a = ['Bhavya', 12, 'Arora']\n",
    "a.pop(1)\n",
    "print(a)"
   ]
  },
  {
   "cell_type": "code",
   "execution_count": 12,
   "metadata": {},
   "outputs": [
    {
     "name": "stdout",
     "output_type": "stream",
     "text": [
      "['a', 'b', 'd', 'e', 'f', 'l']\n",
      "[0, 1, 3, 4, 7]\n"
     ]
    }
   ],
   "source": [
    "# How to Sort item in the list\n",
    "\n",
    "a = ['a', 'e', 'd', 'b', 'l', 'f']\n",
    "b = [4, 7, 1, 0, 3]\n",
    "\n",
    "a.sort()\n",
    "b.sort()\n",
    "\n",
    "print(a)\n",
    "print(b)"
   ]
  },
  {
   "cell_type": "code",
   "execution_count": 13,
   "metadata": {},
   "outputs": [
    {
     "name": "stdout",
     "output_type": "stream",
     "text": [
      "[6, 5, 4, 3, 2, 1]\n"
     ]
    }
   ],
   "source": [
    "# Reverse the given list\n",
    "\n",
    "a = [1, 2, 3, 4, 5, 6]\n",
    "a.reverse()\n",
    "\n",
    "print(a)"
   ]
  },
  {
   "cell_type": "code",
   "execution_count": 14,
   "metadata": {},
   "outputs": [
    {
     "name": "stdout",
     "output_type": "stream",
     "text": [
      "4\n"
     ]
    }
   ],
   "source": [
    "# Access Nested list\n",
    "\n",
    "a = [1,2,[3,4]]\n",
    "print(a[2][1])"
   ]
  },
  {
   "cell_type": "code",
   "execution_count": 1,
   "metadata": {},
   "outputs": [
    {
     "name": "stdout",
     "output_type": "stream",
     "text": [
      "['z', 'z', 'z']\n"
     ]
    }
   ],
   "source": [
    "# Multiplication with list\n",
    "\n",
    "mylist = ['z']*3\n",
    "print(mylist)"
   ]
  },
  {
   "cell_type": "code",
   "execution_count": null,
   "metadata": {},
   "outputs": [],
   "source": []
  }
 ],
 "metadata": {
  "kernelspec": {
   "display_name": "Python 3",
   "language": "python",
   "name": "python3"
  },
  "language_info": {
   "codemirror_mode": {
    "name": "ipython",
    "version": 3
   },
   "file_extension": ".py",
   "mimetype": "text/x-python",
   "name": "python",
   "nbconvert_exporter": "python",
   "pygments_lexer": "ipython3",
   "version": "3.6.5"
  }
 },
 "nbformat": 4,
 "nbformat_minor": 2
}
