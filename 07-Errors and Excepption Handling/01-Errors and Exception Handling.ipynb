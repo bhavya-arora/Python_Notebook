{
 "cells": [
  {
   "cell_type": "code",
   "execution_count": 1,
   "metadata": {},
   "outputs": [
    {
     "name": "stdout",
     "output_type": "stream",
     "text": [
      "Enter the number12\n"
     ]
    },
    {
     "ename": "TypeError",
     "evalue": "unsupported operand type(s) for +: 'int' and 'str'",
     "output_type": "error",
     "traceback": [
      "\u001b[0;31m---------------------------------------------------------------------------\u001b[0m",
      "\u001b[0;31mTypeError\u001b[0m                                 Traceback (most recent call last)",
      "\u001b[0;32m<ipython-input-1-c8df3fb81c04>\u001b[0m in \u001b[0;36m<module>\u001b[0;34m()\u001b[0m\n\u001b[1;32m      7\u001b[0m \u001b[0mnum2\u001b[0m \u001b[0;34m=\u001b[0m \u001b[0minput\u001b[0m\u001b[0;34m(\u001b[0m\u001b[0;34m'Enter the number'\u001b[0m\u001b[0;34m)\u001b[0m\u001b[0;34m\u001b[0m\u001b[0m\n\u001b[1;32m      8\u001b[0m \u001b[0;34m\u001b[0m\u001b[0m\n\u001b[0;32m----> 9\u001b[0;31m \u001b[0madd\u001b[0m\u001b[0;34m(\u001b[0m\u001b[0mnum1\u001b[0m\u001b[0;34m,\u001b[0m \u001b[0mnum2\u001b[0m\u001b[0;34m)\u001b[0m\u001b[0;34m\u001b[0m\u001b[0m\n\u001b[0m",
      "\u001b[0;32m<ipython-input-1-c8df3fb81c04>\u001b[0m in \u001b[0;36madd\u001b[0;34m(a, b)\u001b[0m\n\u001b[1;32m      2\u001b[0m \u001b[0;34m\u001b[0m\u001b[0m\n\u001b[1;32m      3\u001b[0m \u001b[0;32mdef\u001b[0m \u001b[0madd\u001b[0m\u001b[0;34m(\u001b[0m\u001b[0ma\u001b[0m\u001b[0;34m,\u001b[0m \u001b[0mb\u001b[0m\u001b[0;34m)\u001b[0m\u001b[0;34m:\u001b[0m\u001b[0;34m\u001b[0m\u001b[0m\n\u001b[0;32m----> 4\u001b[0;31m     \u001b[0;32mreturn\u001b[0m \u001b[0ma\u001b[0m\u001b[0;34m+\u001b[0m\u001b[0mb\u001b[0m\u001b[0;34m\u001b[0m\u001b[0m\n\u001b[0m\u001b[1;32m      5\u001b[0m \u001b[0;34m\u001b[0m\u001b[0m\n\u001b[1;32m      6\u001b[0m \u001b[0mnum1\u001b[0m \u001b[0;34m=\u001b[0m \u001b[0;36m10\u001b[0m\u001b[0;34m\u001b[0m\u001b[0m\n",
      "\u001b[0;31mTypeError\u001b[0m: unsupported operand type(s) for +: 'int' and 'str'"
     ]
    }
   ],
   "source": [
    "# What if user is a idiot and he/she input something unexpected( and input function returns a string):\n",
    "\n",
    "def add(a, b):\n",
    "    return a+b\n",
    "\n",
    "num1 = 10\n",
    "num2 = input('Enter the number')\n",
    "\n",
    "add(num1, num2)"
   ]
  },
  {
   "cell_type": "code",
   "execution_count": 3,
   "metadata": {},
   "outputs": [
    {
     "name": "stdout",
     "output_type": "stream",
     "text": [
      "Enter the number12\n"
     ]
    }
   ],
   "source": [
    "# as you have seen program crashed because input function returns String( but we can handle it easily ):\n",
    "\n",
    "def add(a, b):\n",
    "    return a+b\n",
    "\n",
    "num1 = 10\n",
    "num2 = int(input('Enter the number'))\n",
    "\n",
    "try:\n",
    "    add(num1, num2)\n",
    "    \n",
    "except:\n",
    "    print('Please Enter only number')\n",
    "    \n",
    "else:\n",
    "    #if no error occured this block of is run\n",
    "    pass"
   ]
  },
  {
   "cell_type": "code",
   "execution_count": 7,
   "metadata": {},
   "outputs": [
    {
     "name": "stdout",
     "output_type": "stream",
     "text": [
      "Enter the number1\n",
      "Please Enter only number\n"
     ]
    }
   ],
   "source": [
    "num1 = 10\n",
    "num2 = input('Enter the number')\n",
    "\n",
    "try:\n",
    "    add(num1, num2)\n",
    "    \n",
    "except:\n",
    "    print('Please Enter only number')\n",
    "    \n",
    "else:\n",
    "    #if no error occured this block of is run\n",
    "    pass"
   ]
  },
  {
   "cell_type": "code",
   "execution_count": 10,
   "metadata": {},
   "outputs": [
    {
     "name": "stdout",
     "output_type": "stream",
     "text": [
      "Enter the number1\n",
      "You forgot to typecast input return to int\n",
      "I Always run if there is any error or not\n"
     ]
    }
   ],
   "source": [
    "num1 = 10\n",
    "num2 = input('Enter the number')\n",
    "\n",
    "try:\n",
    "    add(num1, num2)\n",
    "    \n",
    "except ValueError:\n",
    "    print('Please Enter only number')\n",
    "    \n",
    "except TypeError:\n",
    "    print('You forgot to typecast input return to int')\n",
    "    \n",
    "else:\n",
    "    #if no error occured this block of is run\n",
    "    pass\n",
    "finally:\n",
    "    print('I Always run if there is any error or not')"
   ]
  },
  {
   "cell_type": "code",
   "execution_count": 17,
   "metadata": {},
   "outputs": [
    {
     "name": "stdout",
     "output_type": "stream",
     "text": [
      "Please enter a numbers\n",
      "Please Enter only number\n",
      "I Always run if there is any error or not\n"
     ]
    }
   ],
   "source": [
    "try:\n",
    "    num1 = 10\n",
    "    num2 = int(input('Please enter a number'))\n",
    "    add(num1, num2)\n",
    "    \n",
    "except ValueError:\n",
    "    print('Please Enter only number')\n",
    "    \n",
    "except TypeError:\n",
    "    print('You forgot to typecast input return to int')\n",
    "    \n",
    "else:\n",
    "    #if no error occured this block of is run\n",
    "    pass\n",
    "finally:\n",
    "    print('I Always run if there is any error or not')"
   ]
  },
  {
   "cell_type": "code",
   "execution_count": 1,
   "metadata": {},
   "outputs": [
    {
     "name": "stdout",
     "output_type": "stream",
     "text": [
      "Enter the numbers\n",
      "Please provide a number\n",
      "Im gonna always execute\n",
      "\n",
      "\n",
      "Enter the numbers\n",
      "Please provide a number\n",
      "Im gonna always execute\n",
      "\n",
      "\n",
      "Enter the number1\n",
      "if no errors occured then this line will execute\n",
      "Im gonna always execute\n",
      "\n",
      "\n"
     ]
    }
   ],
   "source": [
    "# While loop to continue excuting try/catch\n",
    "\n",
    "def give_int():\n",
    "    while True:\n",
    "        try:\n",
    "            num1 = int(input('Enter the number'))\n",
    "        except:\n",
    "            print('Please provide a number')\n",
    "            continue\n",
    "        else:\n",
    "            print('if no errors occured then this line will execute')\n",
    "            break\n",
    "        finally:\n",
    "            print('Im gonna always execute\\n\\n')\n",
    "            \n",
    "give_int()"
   ]
  },
  {
   "cell_type": "code",
   "execution_count": null,
   "metadata": {},
   "outputs": [],
   "source": []
  }
 ],
 "metadata": {
  "kernelspec": {
   "display_name": "Python 3",
   "language": "python",
   "name": "python3"
  },
  "language_info": {
   "codemirror_mode": {
    "name": "ipython",
    "version": 3
   },
   "file_extension": ".py",
   "mimetype": "text/x-python",
   "name": "python",
   "nbconvert_exporter": "python",
   "pygments_lexer": "ipython3",
   "version": "3.6.5"
  }
 },
 "nbformat": 4,
 "nbformat_minor": 2
}
