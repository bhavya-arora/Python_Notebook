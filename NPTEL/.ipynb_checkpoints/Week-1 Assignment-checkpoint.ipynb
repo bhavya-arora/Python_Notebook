{
 "cells": [
  {
   "cell_type": "code",
   "execution_count": null,
   "metadata": {},
   "outputs": [],
   "source": [
    "# First Question"
   ]
  },
  {
   "cell_type": "code",
   "execution_count": null,
   "metadata": {},
   "outputs": [],
   "source": [
    "What does g(31415927) return, for the following function definition?"
   ]
  },
  {
   "cell_type": "code",
   "execution_count": 1,
   "metadata": {},
   "outputs": [
    {
     "data": {
      "text/plain": [
       "8"
      ]
     },
     "execution_count": 1,
     "metadata": {},
     "output_type": "execute_result"
    }
   ],
   "source": [
    "def g(x):\n",
    "    (q,d) = (1,0)\n",
    "    while q <= x:\n",
    "      (q,d) = (q*10,d+1)\n",
    "    return(d)\n",
    "\n",
    "g(31415927)"
   ]
  },
  {
   "cell_type": "code",
   "execution_count": 2,
   "metadata": {},
   "outputs": [],
   "source": [
    "# Second Question"
   ]
  },
  {
   "cell_type": "code",
   "execution_count": null,
   "metadata": {},
   "outputs": [],
   "source": [
    "What is the value of h(231,8) for the function below?"
   ]
  },
  {
   "cell_type": "code",
   "execution_count": 3,
   "metadata": {},
   "outputs": [
    {
     "data": {
      "text/plain": [
       "28"
      ]
     },
     "execution_count": 3,
     "metadata": {},
     "output_type": "execute_result"
    }
   ],
   "source": [
    "def h(m,n):\n",
    "    ans = 0\n",
    "    while (m >= n):\n",
    "      (ans,m) = (ans+1,m-n) \n",
    "    return(ans)\n",
    "\n",
    "h(231,8)"
   ]
  },
  {
   "cell_type": "code",
   "execution_count": 4,
   "metadata": {},
   "outputs": [],
   "source": [
    "# Third Question"
   ]
  },
  {
   "cell_type": "code",
   "execution_count": null,
   "metadata": {},
   "outputs": [],
   "source": [
    "The function h(n) given above returns True for a positive number n whenever:\n",
    "1. n is a multiple of 2\n",
    "2. n is a composite number\n",
    "3. n is a prime number\n",
    "4. n is a perfect square\n"
   ]
  },
  {
   "cell_type": "code",
   "execution_count": 5,
   "metadata": {},
   "outputs": [
    {
     "data": {
      "text/plain": [
       "True"
      ]
     },
     "execution_count": 5,
     "metadata": {},
     "output_type": "execute_result"
    }
   ],
   "source": [
    "def h(n):\n",
    "    f = 0\n",
    "    for i in range(1,n+1):\n",
    "      if n%i == 0:\n",
    "        f = f + 1\n",
    "    return(f%2 == 1)\n",
    "\n",
    "h(4)"
   ]
  },
  {
   "cell_type": "code",
   "execution_count": null,
   "metadata": {},
   "outputs": [],
   "source": [
    "# Answer f is the number of factors of n between 1 and n. Factors of n occur in pairs (x,y) so that x*y = n.\n",
    "#If n is a perfect square, one factor will be its own pair, so the number of factors is odd and f returns True.\n",
    "#If n is not a perfect square, the number of factors is even and f returns False."
   ]
  },
  {
   "cell_type": "code",
   "execution_count": 6,
   "metadata": {},
   "outputs": [],
   "source": [
    "# Fourth Question"
   ]
  },
  {
   "cell_type": "code",
   "execution_count": null,
   "metadata": {},
   "outputs": [],
   "source": [
    "Which of the following is correct?\n",
    "1. The function always terminates with f(n) = n(n+1)/2\n",
    "2. The function always terminates with f(n) = factorial of n\n",
    "3. The function terminates for non-negative n with f(n) = n(n+1)/2\n",
    "4. The function terminates for non-negative n with f(n) = factorial of n\n"
   ]
  },
  {
   "cell_type": "code",
   "execution_count": 7,
   "metadata": {},
   "outputs": [
    {
     "data": {
      "text/plain": [
       "10"
      ]
     },
     "execution_count": 7,
     "metadata": {},
     "output_type": "execute_result"
    }
   ],
   "source": [
    "def f(m):\n",
    "    if m == 0:\n",
    "      return(0)\n",
    "    else:\n",
    "      return(m+f(m-1))\n",
    "\n",
    "f(4)"
   ]
  },
  {
   "cell_type": "code",
   "execution_count": null,
   "metadata": {},
   "outputs": [],
   "source": [
    "#Answer If m is negative, the function does not terminate. Otherwise, it computes 1+2+..+m = m(m+1)/2."
   ]
  }
 ],
 "metadata": {
  "kernelspec": {
   "display_name": "Python 3",
   "language": "python",
   "name": "python3"
  },
  "language_info": {
   "codemirror_mode": {
    "name": "ipython",
    "version": 3
   },
   "file_extension": ".py",
   "mimetype": "text/x-python",
   "name": "python",
   "nbconvert_exporter": "python",
   "pygments_lexer": "ipython3",
   "version": "3.6.5"
  }
 },
 "nbformat": 4,
 "nbformat_minor": 2
}
