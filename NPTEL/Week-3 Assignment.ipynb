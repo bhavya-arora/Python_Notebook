{
 "cells": [
  {
   "cell_type": "code",
   "execution_count": 1,
   "metadata": {},
   "outputs": [],
   "source": [
    "# First Question"
   ]
  },
  {
   "cell_type": "code",
   "execution_count": null,
   "metadata": {},
   "outputs": [],
   "source": [
    "Define a Python function descending(l) that returns True if each element in its input list is at most as big as the one before it. For instance:\n",
    "\n",
    "  >>> descending([])\n",
    "  True\n",
    "\n",
    "  >>> descending([4,4,3])\n",
    "  True\n",
    "\n",
    "  >>> descending([19,17,18,7])\n",
    "  False\n",
    "\n"
   ]
  },
  {
   "cell_type": "code",
   "execution_count": 2,
   "metadata": {},
   "outputs": [
    {
     "data": {
      "text/plain": [
       "'True'"
      ]
     },
     "execution_count": 2,
     "metadata": {},
     "output_type": "execute_result"
    }
   ],
   "source": [
    "def descending(l):\n",
    "    i = 0\n",
    "    is_bigger = 'True'\n",
    "    if len(l) >= 2:\n",
    "        for _ in l:\n",
    "            if i < len(l)-1:\n",
    "                if l[i] < l[i+1]:\n",
    "                    return 'False'\n",
    "            i = i + 1\n",
    "    return is_bigger\n",
    "\n",
    "descending([4,4,3])"
   ]
  },
  {
   "cell_type": "code",
   "execution_count": 3,
   "metadata": {},
   "outputs": [],
   "source": [
    "# Second Question"
   ]
  },
  {
   "cell_type": "code",
   "execution_count": null,
   "metadata": {},
   "outputs": [],
   "source": [
    "A list of integers is said to be a valley if it consists of a sequence of strictly decreasing values followed by a sequence of strictly increasing values. The decreasing and increasing sequences must be of length at least 2. The last value of the decreasing sequence is the first value of the increasing sequence.\n",
    "\n",
    "Write a Python function valley(l) that takes a list of integers and returns True if l is a valley and False otherwise.\n",
    "\n",
    "Here are some examples to show how your function should work.\n",
    "\n",
    "  >>> valley([3,2,1,2,3])\n",
    "  True\n",
    "\n",
    "  >>> valley([3,2,1])\n",
    "  False\n",
    "\n",
    "  >>> valley([3,3,2,1,2])\n",
    "  False\n"
   ]
  },
  {
   "cell_type": "code",
   "execution_count": 5,
   "metadata": {},
   "outputs": [
    {
     "data": {
      "text/plain": [
       "True"
      ]
     },
     "execution_count": 5,
     "metadata": {},
     "output_type": "execute_result"
    }
   ],
   "source": [
    "def valley(l):\n",
    "    i = 0\n",
    "    lower_list = list()\n",
    "    upper_list = list()\n",
    "    if len(l) >= 2:\n",
    "        for _ in l:\n",
    "            if i < len(l)-1:\n",
    "                if l[i] < l[i+1]:\n",
    "                    lower_list = l[0:i+1]\n",
    "                    upper_list = l[i:]\n",
    "                    break\n",
    "                    \n",
    "            i = i + 1\n",
    "    else:\n",
    "        return False\n",
    "    if len(lower_list) >= 2 and len(upper_list) >= 2:\n",
    "        return lower_list_check(lower_list) and upper_list_check(upper_list)\n",
    "    else:\n",
    "        return False\n",
    "\n",
    "\n",
    "def lower_list_check(l):\n",
    "    i = 0\n",
    "    for _ in l:\n",
    "        if i < len(l)-1:\n",
    "            if l[i] <= l[i+1]:\n",
    "                return False  \n",
    "        i = i + 1\n",
    "    return True\n",
    "\n",
    "def upper_list_check(l):\n",
    "    i = 0\n",
    "    for _ in l:\n",
    "        if i < len(l)-1:\n",
    "            if l[i] >= l[i+1]:\n",
    "                return False\n",
    "        i = i + 1\n",
    "    return True\n",
    "\n",
    "valley([3,2,1,2,3])"
   ]
  },
  {
   "cell_type": "code",
   "execution_count": 6,
   "metadata": {},
   "outputs": [],
   "source": [
    "#Third Question"
   ]
  },
  {
   "cell_type": "code",
   "execution_count": null,
   "metadata": {},
   "outputs": [],
   "source": [
    "A two dimensional matrix can be represented in Python row-wise, as a list of lists: each inner list represents one row of the matrix. For instance, the matrix\n",
    "\n",
    "  1  2  3\n",
    "  4  5  6 \n",
    "\n",
    "would be represented as [[1, 2, 3], [4, 5, 6]].\n",
    "\n",
    "The transpose of a matrix makes each row into a column. For instance, the transpose of the matrix above is\n",
    "\n",
    "  1  4  \n",
    "  2  5\n",
    "  3  6\n",
    "\n",
    "Write a Python function transpose(m) that takes as input a two dimensional matrix using this row-wise representation and returns the transpose of the matrix using the same representation.\n",
    "\n",
    "Here are some examples to show how your function should work. You may assume that the input to the function is always a non-empty matrix.\n",
    "\n",
    "  >>> transpose([[1,4,9]])\n",
    "  [[1], [4], [9]]\n",
    "\n",
    "  >>> transpose([[1,3,5],[2,4,6]])\n",
    "  [[1, 2], [3, 4], [5, 6]]\n",
    "\n",
    "  >>> transpose([[1,1,1],[2,2,2],[3,3,3]])\n",
    "  [[1, 2, 3], [1, 2, 3], [1, 2, 3]]\n",
    "\n"
   ]
  },
  {
   "cell_type": "code",
   "execution_count": 7,
   "metadata": {},
   "outputs": [
    {
     "data": {
      "text/plain": [
       "[[1, 2, 3], [1, 2, 3], [1, 2, 3]]"
      ]
     },
     "execution_count": 7,
     "metadata": {},
     "output_type": "execute_result"
    }
   ],
   "source": [
    "def transpose(l):\n",
    "    outer_len = len(l)\n",
    "    inner_len = len(l[0])\n",
    "    new_list = list()\n",
    "    for outer in range(outer_len):\n",
    "        for inner in range(inner_len):\n",
    "            if outer == 0:\n",
    "                new_list.append([l[outer][inner]])\n",
    "            else:\n",
    "                new_list[inner].append(l[outer][inner])\n",
    "\n",
    "    return new_list\n",
    "\n",
    "transpose([[1,1,1],[2,2,2],[3,3,3]])"
   ]
  },
  {
   "cell_type": "code",
   "execution_count": 8,
   "metadata": {},
   "outputs": [],
   "source": [
    "# Random Question"
   ]
  },
  {
   "cell_type": "code",
   "execution_count": 9,
   "metadata": {},
   "outputs": [
    {
     "name": "stdout",
     "output_type": "stream",
     "text": [
      "5 2\n",
      "1 3 4 2 5\n",
      "4\n"
     ]
    }
   ],
   "source": [
    "break_point = 0\n",
    "list_array = []\n",
    "i = 1\n",
    "\n",
    "#N is Number of items in List and M is number which we want to search\n",
    "N, M = map(int, input().split())\n",
    "\n",
    "list_array = [int(x) for x in map(int, input().split())]\n",
    "\n",
    "# Break point is the position of number which is being found\n",
    "for num in list_array:\n",
    "    if num == M:\n",
    "        break_point = i\n",
    "    i = i + 1\n",
    "\n",
    "print(break_point)"
   ]
  },
  {
   "cell_type": "code",
   "execution_count": null,
   "metadata": {},
   "outputs": [],
   "source": []
  }
 ],
 "metadata": {
  "kernelspec": {
   "display_name": "Python 3",
   "language": "python",
   "name": "python3"
  },
  "language_info": {
   "codemirror_mode": {
    "name": "ipython",
    "version": 3
   },
   "file_extension": ".py",
   "mimetype": "text/x-python",
   "name": "python",
   "nbconvert_exporter": "python",
   "pygments_lexer": "ipython3",
   "version": "3.6.5"
  }
 },
 "nbformat": 4,
 "nbformat_minor": 2
}
