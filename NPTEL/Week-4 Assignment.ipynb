{
 "cells": [
  {
   "cell_type": "code",
   "execution_count": 1,
   "metadata": {},
   "outputs": [],
   "source": [
    "#Question-1"
   ]
  },
  {
   "cell_type": "code",
   "execution_count": null,
   "metadata": {},
   "outputs": [],
   "source": [
    "We represent scores of batsmen across a sequence of matches in a two level dictionary as follows:\n",
    "\n",
    "   {'match1':{'player1':57, 'player2':38}, 'match2':{'player3':9, 'player1':42}, 'match3':{'player2':41, 'player4':63, 'player3':91}\n",
    "\n",
    "Each match is identified by a string, as is each player. The scores are all integers. The names associated with the matches are not fixed (here they are 'match1','match2','match3'), nor are the names of the players. A player need not have a score recorded in all matches.\n",
    "\n",
    "Define a Python function orangecap(d) that reads a dictionary d of this form and identifies the player with the highest total score. Your function should return a pair (playername,topscore) where playername is a string, the name of the player with the highest score, and topscore is an integer, the total score of playername.\n",
    "\n",
    "The input will be such that there are never any ties for highest total score.\n",
    "\n",
    "For instance:\n",
    "\n",
    "  >>> orangecap({'match1':{'player1':57, 'player2':38}, 'match2':{'player3':9, 'player1':42}, 'match3':{'player2':41, 'player4':63, 'player3':91}})\n",
    "('player3', 100)\n",
    "\n",
    "  >>> orangecap({'test1':{'Ashwin':84, 'Kohli':120}, 'test2':{'ashwin':59, 'Pujara':42}})\n",
    "('Kohli', 120)"
   ]
  },
  {
   "cell_type": "code",
   "execution_count": 2,
   "metadata": {},
   "outputs": [
    {
     "name": "stdout",
     "output_type": "stream",
     "text": [
      "('Kohli', 120)\n"
     ]
    }
   ],
   "source": [
    "def orangecap(d):\n",
    "    dic1 = dict()\n",
    "    for i in range(len(d.values())):\n",
    "\n",
    "        inner_keys = list(list(d.values())[i].keys())\n",
    "        inner_values = list(list(d.values())[i].values())\n",
    "\n",
    "        for j in range(len(inner_keys)):\n",
    "            if dic1.__contains__(inner_keys[j]):\n",
    "                dic1[inner_keys[j]] = dic1[inner_keys[j]] + inner_values[j]\n",
    "            else:\n",
    "                dic1[inner_keys[j]] = inner_values[j]\n",
    "    large = 0\n",
    "    for k in range(len(list(dic1.items()))):\n",
    "        if list(dic1.items())[k][1] > large:\n",
    "            index = k\n",
    "            large  = list(dic1.items())[k][1]\n",
    "    print(list(dic1.items())[index])\n",
    "    \n",
    "orangecap({'test1':{'Ashwin':84, 'Kohli':120}, 'test2':{'ashwin':59, 'Pujara':42}})"
   ]
  },
  {
   "cell_type": "code",
   "execution_count": 3,
   "metadata": {},
   "outputs": [],
   "source": [
    "#Question - 2"
   ]
  },
  {
   "cell_type": "code",
   "execution_count": null,
   "metadata": {},
   "outputs": [],
   "source": [
    "Let us consider polynomials in a single variable x with integer coefficients: for instance, 3x4 - 17x2 - 3x + 5. Each term of the polynomial can be represented as a pair of integers (coefficient,exponent). The polynomial itself is then a list of such pairs.\n",
    "\n",
    "We have the following constraints to guarantee that each polynomial has a unique representation:\n",
    "\n",
    "    Terms are sorted in descending order of exponent\n",
    "    No term has a zero cofficient\n",
    "    No two terms have the same exponent\n",
    "    Exponents are always nonnegative\n",
    "\n",
    "For example, the polynomial introduced earlier is represented as\n",
    "\n",
    "  [(3,4),(-17,2),(-3,1),(5,0)]\n",
    "\n",
    "The zero polynomial, 0, is represented as the empty list [], since it has no terms with nonzero coefficients.\n",
    "\n",
    "Write Python functions for the following operations:\n",
    "\n",
    "  \n",
    "  addpoly(p1,p2)\n",
    "  multpoly(p1,p2)\n",
    "\n",
    "that add and multiply two polynomials, respectively.\n",
    "\n",
    "You may assume that the inputs to these functions follow the representation given above. Correspondingly, the outputs from these functions should also obey the same constraints.\n",
    "\n",
    "Hint: You are not restricted to writing just the two functions asked for. You can write auxiliary functions to \"clean up\" polynomials – e.g., remove zero coefficient terms, combine like terms, sort by exponent etc. Build a library of functions that can be combined to achieve the desired format.\n",
    "\n",
    "You may also want to convert the list representation to a dictionary representation and manipulate the dictionary representation, and then convert back.\n",
    "\n",
    "Some examples:\n",
    "\n",
    "  >>> addpoly([(4,3),(3,0)],[(-4,3),(2,1)])\n",
    "  [(2, 1),(3, 0)]\n",
    "\n",
    "Explanation: (4x3 + 3) + (-4x3 + 2x) = 2x + 3\n",
    "\n",
    "  >>> addpoly([(2,1)],[(-2,1)])\n",
    "  []\n",
    "\n",
    "Explanation: 2x + (-2x) = 0\n",
    "\n",
    "  >>> multpoly([(1,1),(-1,0)],[(1,2),(1,1),(1,0)])\n",
    "  [(1, 3),(-1, 0)]\n",
    "\n",
    "Explanation: (x - 1) * (x2 + x + 1) = x3 - 1\n"
   ]
  },
  {
   "cell_type": "code",
   "execution_count": 4,
   "metadata": {},
   "outputs": [
    {
     "name": "stdout",
     "output_type": "stream",
     "text": [
      "[(2, 1), (3, 0)]\n",
      "[(1, 3), (-1, 0)]\n"
     ]
    }
   ],
   "source": [
    "def addpoly(e1, e2):\n",
    "    new_list = list()\n",
    "    for i in range(len(e1)):\n",
    "        swap = False\n",
    "        for j in range(len(e2)):\n",
    "            if e1[i][1] == e2[j][1]:\n",
    "                swap = True\n",
    "                if e1[i][0] + e2[j][0] != 0:\n",
    "                    new_list.append((e1[i][0] + e2[j][0], e1[i][1]))\n",
    "                e2.pop(j)\n",
    "                break\n",
    "        if swap == False:\n",
    "            new_list.append((e1[i][0], e1[i][1]))\n",
    "    new_list = new_list + e2\n",
    "    new_list = sorted(new_list, key=lambda tup: tup[1], reverse=True)\n",
    "    return new_list\n",
    "\n",
    "\n",
    "def multpoly(e1, e2):\n",
    "    new_list = list()\n",
    "    new_list1  = list()\n",
    "    new_list2 = list()\n",
    "    new_list.append(new_list1)\n",
    "    new_list.append(new_list2)\n",
    "    for i in range(len(e1)):\n",
    "        for j in range(len(e2)):\n",
    "            new_list[i].append((e1[i][0] * e2[j][0], e1[i][1] + e2[j][1]))\n",
    "    return addpoly(new_list[0], new_list[1])\n",
    "\n",
    "print(addpoly([(4,3),(3,0)],[(-4,3),(2,1)]))\n",
    "print(multpoly([(1,1),(-1,0)],[(1,2),(1,1),(1,0)]))"
   ]
  },
  {
   "cell_type": "code",
   "execution_count": null,
   "metadata": {},
   "outputs": [],
   "source": []
  }
 ],
 "metadata": {
  "kernelspec": {
   "display_name": "Python 3",
   "language": "python",
   "name": "python3"
  },
  "language_info": {
   "codemirror_mode": {
    "name": "ipython",
    "version": 3
   },
   "file_extension": ".py",
   "mimetype": "text/x-python",
   "name": "python",
   "nbconvert_exporter": "python",
   "pygments_lexer": "ipython3",
   "version": "3.6.5"
  }
 },
 "nbformat": 4,
 "nbformat_minor": 2
}
