{
 "cells": [
  {
   "cell_type": "code",
   "execution_count": 1,
   "metadata": {},
   "outputs": [],
   "source": [
    "# First Question"
   ]
  },
  {
   "cell_type": "code",
   "execution_count": null,
   "metadata": {},
   "outputs": [],
   "source": [
    "Write a function intreverse(n) that takes as input a positive integer n and returns the integer obtained by reversing the digits in n.\n",
    "\n",
    "Here are some examples of how your function should work.\n",
    "\n",
    "  >>> intreverse(783)\n",
    "  387\n",
    "  >>> intreverse(242789)\n",
    "  987242\n",
    "  >>> intreverse(3)\n",
    "  3"
   ]
  },
  {
   "cell_type": "code",
   "execution_count": 2,
   "metadata": {},
   "outputs": [
    {
     "data": {
      "text/plain": [
       "987242"
      ]
     },
     "execution_count": 2,
     "metadata": {},
     "output_type": "execute_result"
    }
   ],
   "source": [
    "def intreverse(n):\n",
    "    return int(str(n)[::-1])\n",
    "\n",
    "intreverse(242789)"
   ]
  },
  {
   "cell_type": "code",
   "execution_count": 3,
   "metadata": {},
   "outputs": [],
   "source": [
    "# Second Question"
   ]
  },
  {
   "cell_type": "code",
   "execution_count": null,
   "metadata": {},
   "outputs": [],
   "source": [
    "Write a function matched(s) that takes as input a string s and checks if the brackets \"(\" and \")\" in s are matched: that is, every \"(\" has a matching \")\" after it and every \")\" has a matching \"(\" before it. Your function should ignore all other symbols that appear in s. Your function should return True if s has matched brackets and False if it does not.\n",
    "\n",
    "Here are some examples to show how your function should work.\n",
    "\n",
    " \n",
    "  >>> matched(\"zb%78\")\n",
    "  True\n",
    "  >>> matched(\"(7)(a\")\n",
    "  False\n",
    "  >>> matched(\"a)*(?\")\n",
    "  False\n",
    "  >>> matched(\"((jkl)78(A)&l(8(dd(FJI:),):)?)\")\n",
    "  True"
   ]
  },
  {
   "cell_type": "code",
   "execution_count": 4,
   "metadata": {},
   "outputs": [
    {
     "data": {
      "text/plain": [
       "True"
      ]
     },
     "execution_count": 4,
     "metadata": {},
     "output_type": "execute_result"
    }
   ],
   "source": [
    "def matched(s):\n",
    "    charlist = []\n",
    "    for char in s:\n",
    "        if char == '(':\n",
    "            charlist = charlist + [char]\n",
    "        elif char == ')':\n",
    "            if len(charlist) == 0:\n",
    "                return 'False'\n",
    "            else:\n",
    "                charlist.pop()\n",
    "    return len(charlist) == 0\n",
    "\n",
    "matched(\"((jkl)78(A)&l(8(dd(FJI:),):)?)\")"
   ]
  },
  {
   "cell_type": "code",
   "execution_count": 5,
   "metadata": {},
   "outputs": [],
   "source": [
    "# Third Question"
   ]
  },
  {
   "cell_type": "code",
   "execution_count": null,
   "metadata": {},
   "outputs": [],
   "source": [
    "Write a function sumprimes(l) that takes as input a list of integers l and retuns the sum of all the prime numbers in l.\n",
    "\n",
    "Here are some examples to show how your function should work.\n",
    "\n",
    "  >>> sumprimes([3,3,1,13])\n",
    "  19\n",
    "  >>> sumprimes([2,4,6,9,11])\n",
    "  13\n",
    "  >>> sumprimes([-3,1,6])\n",
    "  0"
   ]
  },
  {
   "cell_type": "code",
   "execution_count": null,
   "metadata": {},
   "outputs": [],
   "source": [
    "def sumprimes(l):\n",
    "    prime_sum = int()\n",
    "    for num in l:\n",
    "        if is_prime(num):\n",
    "            prime_sum = prime_sum + num\n",
    "    return prime_sum\n",
    "\n",
    "\n",
    "def is_prime(n):\n",
    "    factor_list = []\n",
    "    for num in range(2, n+1):\n",
    "        if n % num == 0:\n",
    "            factor_list = factor_list + [num]\n",
    "    return len(factor_list) == 1"
   ]
  }
 ],
 "metadata": {
  "kernelspec": {
   "display_name": "Python 3",
   "language": "python",
   "name": "python3"
  },
  "language_info": {
   "codemirror_mode": {
    "name": "ipython",
    "version": 3
   },
   "file_extension": ".py",
   "mimetype": "text/x-python",
   "name": "python",
   "nbconvert_exporter": "python",
   "pygments_lexer": "ipython3",
   "version": "3.6.5"
  }
 },
 "nbformat": 4,
 "nbformat_minor": 2
}
