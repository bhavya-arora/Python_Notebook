{
 "cells": [
  {
   "cell_type": "code",
   "execution_count": 1,
   "metadata": {},
   "outputs": [
    {
     "name": "stdout",
     "output_type": "stream",
     "text": [
      "5 2\n",
      "1 3 4 2 5\n",
      "4\n"
     ]
    }
   ],
   "source": [
    "break_point = 0\n",
    "list_array = []\n",
    "i = 1\n",
    "\n",
    "#N is Number of items in List and M is number which we want to search\n",
    "N, M = map(int, input().split())\n",
    "\n",
    "list_array = [int(x) for x in map(int, input().split())]\n",
    "\n",
    "# Break point is the position of number which is being found\n",
    "for num in list_array:\n",
    "    if num == M:\n",
    "        break_point = i\n",
    "    i = i + 1\n",
    "\n",
    "print(break_point)"
   ]
  },
  {
   "cell_type": "code",
   "execution_count": 2,
   "metadata": {},
   "outputs": [],
   "source": [
    "# Find GCD"
   ]
  },
  {
   "cell_type": "code",
   "execution_count": 3,
   "metadata": {},
   "outputs": [
    {
     "name": "stdout",
     "output_type": "stream",
     "text": [
      "8\n"
     ]
    }
   ],
   "source": [
    "def gcd(m, n):\n",
    "    cf = 1\n",
    "    if m > n:\n",
    "        cf = gcd(n, m)\n",
    "    else:\n",
    "        for i in range(1, m+1):\n",
    "            if m % i == 0 and n % i == 0:\n",
    "                cf = i\n",
    "    return cf\n",
    "\n",
    "print(gcd(24, 8))"
   ]
  },
  {
   "cell_type": "code",
   "execution_count": null,
   "metadata": {},
   "outputs": [],
   "source": []
  }
 ],
 "metadata": {
  "kernelspec": {
   "display_name": "Python 3",
   "language": "python",
   "name": "python3"
  },
  "language_info": {
   "codemirror_mode": {
    "name": "ipython",
    "version": 3
   },
   "file_extension": ".py",
   "mimetype": "text/x-python",
   "name": "python",
   "nbconvert_exporter": "python",
   "pygments_lexer": "ipython3",
   "version": "3.6.5"
  }
 },
 "nbformat": 4,
 "nbformat_minor": 2
}
