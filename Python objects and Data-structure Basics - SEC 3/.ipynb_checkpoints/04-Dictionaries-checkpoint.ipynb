{
 "cells": [
  {
   "cell_type": "code",
   "execution_count": 1,
   "metadata": {},
   "outputs": [
    {
     "name": "stdout",
     "output_type": "stream",
     "text": [
      "34\n"
     ]
    }
   ],
   "source": [
    "# Dictionaries\n",
    "\n",
    "price = {'Oranges': 89, 'Potatoes': 10, 'Tomatoes': 34}\n",
    "print(price['Tomatoes'])"
   ]
  },
  {
   "cell_type": "code",
   "execution_count": 2,
   "metadata": {},
   "outputs": [
    {
     "name": "stdout",
     "output_type": "stream",
     "text": [
      "1023\n",
      "12\n"
     ]
    }
   ],
   "source": [
    "# Dictionary can contain object and list\n",
    "\n",
    "a = {'Key1': 1023, 'Key2': [1,2,3], 'Key3': {'Inner Key': 12}}\n",
    "print(a['Key1'])\n",
    "print(a['Key3']['Inner Key'])\n"
   ]
  },
  {
   "cell_type": "code",
   "execution_count": 3,
   "metadata": {},
   "outputs": [
    {
     "name": "stdout",
     "output_type": "stream",
     "text": [
      "{'Key1': 100, 'Key2': 200}\n",
      "{'Key1': 100, 'Key2': 200, 'Key3': 300}\n"
     ]
    }
   ],
   "source": [
    "# Add new Item in Dictionary\n",
    "\n",
    "a = {'Key1': 100, 'Key2': 200}\n",
    "print(a)\n",
    "a['Key3'] = 300\n",
    "print(a)"
   ]
  },
  {
   "cell_type": "code",
   "execution_count": 4,
   "metadata": {},
   "outputs": [
    {
     "name": "stdout",
     "output_type": "stream",
     "text": [
      "dict_keys(['Key1', 'Key2', 'Key3'])\n",
      "dict_values([100, 200, 300])\n"
     ]
    }
   ],
   "source": [
    "a = {'Key1': 100, 'Key2': 200, 'Key3': 300}\n",
    "print(a.keys())\n",
    "print(a.values())"
   ]
  },
  {
   "cell_type": "code",
   "execution_count": 5,
   "metadata": {},
   "outputs": [
    {
     "name": "stdout",
     "output_type": "stream",
     "text": [
      "dict_items([('Key1', 100), ('Key2', 200), ('Key3', 300)])\n"
     ]
    }
   ],
   "source": [
    "# Get Dictionary items\n",
    "\n",
    "a = {'Key1': 100, 'Key2': 200, 'Key3': 300}\n",
    "print(a.items())"
   ]
  },
  {
   "cell_type": "code",
   "execution_count": 6,
   "metadata": {},
   "outputs": [
    {
     "name": "stdout",
     "output_type": "stream",
     "text": [
      "Value\n"
     ]
    }
   ],
   "source": [
    "#Nested Dictionaries\n",
    "\n",
    "a = {'Key1':{'Nested Key':{'Subnested Key':'Value'}}}\n",
    "print(a['Key1']['Nested Key']['Subnested Key'])"
   ]
  },
  {
   "cell_type": "code",
   "execution_count": null,
   "metadata": {},
   "outputs": [],
   "source": []
  }
 ],
 "metadata": {
  "kernelspec": {
   "display_name": "Python 3",
   "language": "python",
   "name": "python3"
  },
  "language_info": {
   "codemirror_mode": {
    "name": "ipython",
    "version": 3
   },
   "file_extension": ".py",
   "mimetype": "text/x-python",
   "name": "python",
   "nbconvert_exporter": "python",
   "pygments_lexer": "ipython3",
   "version": "3.6.5"
  }
 },
 "nbformat": 4,
 "nbformat_minor": 2
}
