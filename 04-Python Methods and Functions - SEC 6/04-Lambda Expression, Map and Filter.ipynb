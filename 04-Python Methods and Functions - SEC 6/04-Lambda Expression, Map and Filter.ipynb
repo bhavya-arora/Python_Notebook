{
 "cells": [
  {
   "cell_type": "code",
   "execution_count": 1,
   "metadata": {},
   "outputs": [
    {
     "name": "stdout",
     "output_type": "stream",
     "text": [
      "[1, 4, 9, 16, 25]\n"
     ]
    }
   ],
   "source": [
    "# if we wanna square every number of a list\n",
    "\n",
    "def square(num):\n",
    "    return num**2\n",
    "\n",
    "mylist = [1,2,3,4,5]\n",
    "mylist1 = []\n",
    "for a in mylist:\n",
    "    mylist1.append(square(a))\n",
    "    \n",
    "print(mylist1)"
   ]
  },
  {
   "cell_type": "code",
   "execution_count": 2,
   "metadata": {},
   "outputs": [
    {
     "name": "stdout",
     "output_type": "stream",
     "text": [
      "[1, 4, 9, 16, 25]\n"
     ]
    }
   ],
   "source": [
    "# we can do the same thing but in easy way (using map function(function, iterable))\n",
    "\n",
    "def square(num):\n",
    "    return num**2\n",
    "\n",
    "mylist = [1,2,3,4,5]\n",
    "mylist1 = list(map(square, mylist))\n",
    "print(mylist1)"
   ]
  },
  {
   "cell_type": "markdown",
   "metadata": {},
   "source": [
    "# Filter"
   ]
  },
  {
   "cell_type": "code",
   "execution_count": 5,
   "metadata": {},
   "outputs": [
    {
     "data": {
      "text/plain": [
       "[2, 4, 6, 8, 10]"
      ]
     },
     "execution_count": 5,
     "metadata": {},
     "output_type": "execute_result"
    }
   ],
   "source": [
    "# Filter not only apply function to every item of the list but also can filter the items:\n",
    "\n",
    "def check_even(num):\n",
    "    return num%2 == 0\n",
    "\n",
    "mylist = [1,2,3,4,5,6,7,8,9,10]\n",
    "list(filter(check_even, mylist))"
   ]
  },
  {
   "cell_type": "markdown",
   "metadata": {},
   "source": [
    "# Lambda Function"
   ]
  },
  {
   "cell_type": "code",
   "execution_count": 6,
   "metadata": {},
   "outputs": [
    {
     "data": {
      "text/plain": [
       "4"
      ]
     },
     "execution_count": 6,
     "metadata": {},
     "output_type": "execute_result"
    }
   ],
   "source": [
    "# We can do like this:\n",
    "\n",
    "def square(num): return num**2\n",
    "\n",
    "square(2)"
   ]
  },
  {
   "cell_type": "code",
   "execution_count": 7,
   "metadata": {},
   "outputs": [
    {
     "data": {
      "text/plain": [
       "4"
      ]
     },
     "execution_count": 7,
     "metadata": {},
     "output_type": "execute_result"
    }
   ],
   "source": [
    "# But we can do like this (Lambda is a Anonymous function with no name. we can only usee this one time and the expression which is right side is expected to a return value):\n",
    "\n",
    "square = lambda num: num**2\n",
    "\n",
    "square(2)"
   ]
  },
  {
   "cell_type": "code",
   "execution_count": 9,
   "metadata": {},
   "outputs": [
    {
     "data": {
      "text/plain": [
       "[1, 4, 9, 16, 25, 36, 49, 64, 81]"
      ]
     },
     "execution_count": 9,
     "metadata": {},
     "output_type": "execute_result"
    }
   ],
   "source": [
    "# Lambda with map function:\n",
    "\n",
    "mylist = [1,2,3,4,5,6,7,8,9]\n",
    "list(map(lambda num: num**2, mylist))"
   ]
  },
  {
   "cell_type": "code",
   "execution_count": null,
   "metadata": {},
   "outputs": [],
   "source": []
  }
 ],
 "metadata": {
  "kernelspec": {
   "display_name": "Python 3",
   "language": "python",
   "name": "python3"
  },
  "language_info": {
   "codemirror_mode": {
    "name": "ipython",
    "version": 3
   },
   "file_extension": ".py",
   "mimetype": "text/x-python",
   "name": "python",
   "nbconvert_exporter": "python",
   "pygments_lexer": "ipython3",
   "version": "3.6.5"
  }
 },
 "nbformat": 4,
 "nbformat_minor": 2
}
