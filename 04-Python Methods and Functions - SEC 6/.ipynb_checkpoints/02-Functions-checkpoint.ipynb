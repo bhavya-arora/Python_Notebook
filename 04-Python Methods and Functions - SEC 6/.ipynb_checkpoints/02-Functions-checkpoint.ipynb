{
 "cells": [
  {
   "cell_type": "code",
   "execution_count": 2,
   "metadata": {},
   "outputs": [
    {
     "name": "stdout",
     "output_type": "stream",
     "text": [
      "Bhavya Arora\n"
     ]
    }
   ],
   "source": [
    "# Defining Documentation:\n",
    "\n",
    "def my_func():\n",
    "    \n",
    "    '''\n",
    "    DOCSTRING: Information about the my_func\n",
    "    INPUT: No Input\n",
    "    OUTPUT: Bhavya Arora\n",
    "    '''\n",
    "    \n",
    "    print('Bhavya Arora')\n",
    "    \n",
    "my_func()"
   ]
  },
  {
   "cell_type": "code",
   "execution_count": 3,
   "metadata": {},
   "outputs": [
    {
     "name": "stdout",
     "output_type": "stream",
     "text": [
      "Hello NAME\n",
      "Hello Bhavya Arora\n"
     ]
    }
   ],
   "source": [
    "# Default parameter\n",
    "\n",
    "def my_name(name = 'NAME'):\n",
    "    print('Hello ' + name)\n",
    "    \n",
    "my_name()\n",
    "my_name('Bhavya Arora')"
   ]
  },
  {
   "cell_type": "code",
   "execution_count": 4,
   "metadata": {},
   "outputs": [
    {
     "data": {
      "text/plain": [
       "True"
      ]
     },
     "execution_count": 4,
     "metadata": {},
     "output_type": "execute_result"
    }
   ],
   "source": [
    "# Return in functions\n",
    "\n",
    "def check_dog(dog):\n",
    "    return 'dog' in dog.lower()\n",
    "\n",
    "check_dog('Here is the Dog')"
   ]
  },
  {
   "cell_type": "code",
   "execution_count": null,
   "metadata": {},
   "outputs": [],
   "source": []
  }
 ],
 "metadata": {
  "kernelspec": {
   "display_name": "Python 3",
   "language": "python",
   "name": "python3"
  },
  "language_info": {
   "codemirror_mode": {
    "name": "ipython",
    "version": 3
   },
   "file_extension": ".py",
   "mimetype": "text/x-python",
   "name": "python",
   "nbconvert_exporter": "python",
   "pygments_lexer": "ipython3",
   "version": "3.6.5"
  }
 },
 "nbformat": 4,
 "nbformat_minor": 2
}
