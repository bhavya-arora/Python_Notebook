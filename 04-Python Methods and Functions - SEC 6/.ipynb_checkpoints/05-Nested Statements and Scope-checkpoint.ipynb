{
 "cells": [
  {
   "cell_type": "code",
   "execution_count": 6,
   "metadata": {},
   "outputs": [
    {
     "name": "stdout",
     "output_type": "stream",
     "text": [
      "This is Local String\n"
     ]
    }
   ],
   "source": [
    "# This Folloe LEGB Rule( First check Local, then Enclosing, then Global, then Built-in)\n",
    "\n",
    "name = 'This is GLobal String'\n",
    "\n",
    "def myfunc():\n",
    "    name = 'This is Enclosing'\n",
    "    def myfunc1():\n",
    "        name = 'This is Local String'\n",
    "        print(name)\n",
    "    myfunc1()\n",
    "        \n",
    "myfunc()"
   ]
  },
  {
   "cell_type": "code",
   "execution_count": 7,
   "metadata": {},
   "outputs": [
    {
     "data": {
      "text/plain": [
       "'This is GLobal String'"
      ]
     },
     "execution_count": 7,
     "metadata": {},
     "output_type": "execute_result"
    }
   ],
   "source": [
    "# Reassignment is only happens under the function only (that's called scope)\n",
    "\n",
    "name"
   ]
  },
  {
   "cell_type": "code",
   "execution_count": 8,
   "metadata": {},
   "outputs": [
    {
     "name": "stdout",
     "output_type": "stream",
     "text": [
      "This is Local String\n"
     ]
    }
   ],
   "source": [
    "# But how to effect global variables, if nay case we want global variable:\n",
    "\n",
    "name = 'This is GLobal String'\n",
    "\n",
    "def myfunc():\n",
    "    global name\n",
    "    \n",
    "    name = 'This is Enclosing'\n",
    "    def myfunc1():\n",
    "        name = 'This is Local String'\n",
    "        print(name)\n",
    "    myfunc1()\n",
    "        \n",
    "myfunc()"
   ]
  },
  {
   "cell_type": "code",
   "execution_count": 9,
   "metadata": {},
   "outputs": [
    {
     "data": {
      "text/plain": [
       "'This is Enclosing'"
      ]
     },
     "execution_count": 9,
     "metadata": {},
     "output_type": "execute_result"
    }
   ],
   "source": [
    "# Now if i call name this global value has been changed:\n",
    "\n",
    "name"
   ]
  },
  {
   "cell_type": "code",
   "execution_count": null,
   "metadata": {},
   "outputs": [],
   "source": []
  }
 ],
 "metadata": {
  "kernelspec": {
   "display_name": "Python 3",
   "language": "python",
   "name": "python3"
  },
  "language_info": {
   "codemirror_mode": {
    "name": "ipython",
    "version": 3
   },
   "file_extension": ".py",
   "mimetype": "text/x-python",
   "name": "python",
   "nbconvert_exporter": "python",
   "pygments_lexer": "ipython3",
   "version": "3.6.5"
  }
 },
 "nbformat": 4,
 "nbformat_minor": 2
}
